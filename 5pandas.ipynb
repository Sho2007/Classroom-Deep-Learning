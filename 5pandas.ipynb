{
 "cells": [
  {
   "cell_type": "code",
   "execution_count": 1,
   "metadata": {},
   "outputs": [
    {
     "name": "stdout",
     "output_type": "stream",
     "text": [
      "      Name  Age        City\n",
      "0    Alice   25     Bangkok\n",
      "1      Bob   30  Chiang Mai\n",
      "2  Charlie   35      Phuket\n"
     ]
    }
   ],
   "source": [
    "import pandas as pd\n",
    "\n",
    "data = {\n",
    "    \"Name\": [\"Alice\", \"Bob\", \"Charlie\"],\n",
    "    \"Age\": [25, 30, 35],\n",
    "    \"City\": [\"Bangkok\", \"Chiang Mai\", \"Phuket\"]\n",
    "}\n",
    "\n",
    "df = pd.DataFrame(data)\n",
    "print(df)"
   ]
  },
  {
   "cell_type": "code",
   "execution_count": null,
   "metadata": {},
   "outputs": [],
   "source": [
    "# อ่านไฟล์ CSV\n",
    "df = pd.read_csv('data.csv')\n",
    "\n",
    "# เขียน DataFrame เป็นไฟล์ CSV\n",
    "df.to_csv('output.csv', index=False)\n",
    "\n",
    "# อ่านไฟล์ Excel\n",
    "df = pd.read_excel('data.xlsx')\n",
    "\n",
    "# เขียน DataFrame เป็นไฟล์ Excel\n",
    "df.to_excel('output.xlsx', index=False)\n"
   ]
  },
  {
   "cell_type": "code",
   "execution_count": null,
   "metadata": {},
   "outputs": [],
   "source": [
    "print(df.head())  # ดู 5 แถวแรก\n",
    "print(df.tail())  # ดู 5 แถวสุดท้าย\n",
    "print(df.info())  # ข้อมูลโครงสร้าง DataFrame\n",
    "print(df.describe())  # ค่าสถิติเบื้องต้น\n"
   ]
  },
  {
   "cell_type": "code",
   "execution_count": null,
   "metadata": {},
   "outputs": [],
   "source": [
    "data = {\n",
    "    \"Name\" : ['Sho','Nick',\"Toei\"],\n",
    "    \"Age\" : [17,18,19],\n",
    "    \"Score\" : [75,42,79]\n",
    "}\n",
    "\n",
    "df = pd.DataFrame(data)\n",
    "filter_score = df[df[\"Score\"] > 60]\n",
    "\n",
    "df[\"Level\"] = [\"A\" if score > 60 else \"B\" for score in df[\"Score\"]]\n",
    "\n",
    "print(df)"
   ]
  },
  {
   "cell_type": "code",
   "execution_count": null,
   "metadata": {},
   "outputs": [],
   "source": [
    "import pandas as pd\n",
    "\n",
    "# สร้าง DataFrame\n",
    "data = {\n",
    "    'Name': ['Alice', 'Bob', 'Charlie'],\n",
    "    'Age': [25, 30, 35],\n",
    "    'Score': [85, 90, 95]\n",
    "}\n",
    "\n",
    "df = pd.DataFrame(data)\n",
    "\n",
    "average_score = df['Score'].mean()\n",
    "print(\"Average Score:\", average_score) # หาค่าเฉลี่ย\n"
   ]
  },
  {
   "cell_type": "code",
   "execution_count": null,
   "metadata": {},
   "outputs": [],
   "source": [
    "data = {\n",
    "    'Name': ['Alice', 'Bob', 'Charlie', 'David'],\n",
    "    'Age': [25, 30, 35, 40],\n",
    "    'Score': [85, 90, 95, 88]\n",
    "}\n",
    "\n",
    "df = pd.DataFrame(data)\n",
    "\n",
    "# เลือกแถวที่ index 2\n",
    "print(df.loc[2])  \n",
    "\n",
    "# เลือกแถวที่ index 1 และคอลัมน์ \"Name\"\n",
    "print(df.loc[1, 'Name'])  \n",
    "\n",
    "# เลือกแถวที่ index 1-2 และคอลัมน์ \"Age\" และ \"Score\"\n",
    "print(df.loc[1:2, ['Age', 'Score']])\n",
    "\n",
    "# เลือกข้อมูลโดยใช้ตำแหน่ง index\n",
    "print(df.iloc[1:3, 0:2])  "
   ]
  },
  {
   "cell_type": "code",
   "execution_count": null,
   "metadata": {},
   "outputs": [],
   "source": [
    "# Merge (รวม DataFrame)\n",
    "\n",
    "df1 = pd.DataFrame({'ID': [1, 2, 3], 'Name': ['Alice', 'Bob', 'Charlie']})\n",
    "df2 = pd.DataFrame({'ID': [1, 2, 3], 'Score': [85, 90, 95]})\n",
    "\n",
    "merged_df = pd.merge(df1, df2, on='ID')\n",
    "print(merged_df)\n"
   ]
  }
 ],
 "metadata": {
  "kernelspec": {
   "display_name": "base",
   "language": "python",
   "name": "python3"
  },
  "language_info": {
   "codemirror_mode": {
    "name": "ipython",
    "version": 3
   },
   "file_extension": ".py",
   "mimetype": "text/x-python",
   "name": "python",
   "nbconvert_exporter": "python",
   "pygments_lexer": "ipython3",
   "version": "3.12.7"
  }
 },
 "nbformat": 4,
 "nbformat_minor": 2
}
